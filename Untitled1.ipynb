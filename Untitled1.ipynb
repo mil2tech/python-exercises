{
 "cells": [
  {
   "cell_type": "code",
   "execution_count": 2,
   "id": "f88891e0",
   "metadata": {},
   "outputs": [],
   "source": [
    "import numpy as np"
   ]
  },
  {
   "cell_type": "code",
   "execution_count": 3,
   "id": "17bc3ec8",
   "metadata": {},
   "outputs": [
    {
     "ename": "SyntaxError",
     "evalue": "invalid syntax (<unknown>, line 1)",
     "output_type": "error",
     "traceback": [
      "Traceback \u001b[0;36m(most recent call last)\u001b[0m:\n",
      "  File \u001b[1;32m/usr/local/anaconda3/lib/python3.9/site-packages/IPython/core/interactiveshell.py:3369\u001b[0m in \u001b[1;35mrun_code\u001b[0m\n    exec(code_obj, self.user_global_ns, self.user_ns)\n",
      "  Input \u001b[1;32mIn [3]\u001b[0m in \u001b[1;35m<cell line: 1>\u001b[0m\n    get_ipython().run_cell_magic('timeit', '', '[ ** 2 for x in range(1, 1_000_000) ** 2]\\n')\n",
      "  File \u001b[1;32m/usr/local/anaconda3/lib/python3.9/site-packages/IPython/core/interactiveshell.py:2347\u001b[0m in \u001b[1;35mrun_cell_magic\u001b[0m\n    result = fn(*args, **kwargs)\n",
      "  File \u001b[1;32m/usr/local/anaconda3/lib/python3.9/site-packages/IPython/core/magics/execution.py:1108\u001b[0m in \u001b[1;35mtimeit\u001b[0m\n    ast_stmt = self.shell.compile.ast_parse(transform(cell))\n",
      "\u001b[0;36m  File \u001b[0;32m/usr/local/anaconda3/lib/python3.9/site-packages/IPython/core/compilerop.py:105\u001b[0;36m in \u001b[0;35mast_parse\u001b[0;36m\u001b[0m\n\u001b[0;31m    return compile(source, filename, symbol, self.flags | PyCF_ONLY_AST, 1)\u001b[0m\n",
      "\u001b[0;36m  File \u001b[0;32m<unknown>:1\u001b[0;36m\u001b[0m\n\u001b[0;31m    [ ** 2 for x in range(1, 1_000_000) ** 2]\u001b[0m\n\u001b[0m      ^\u001b[0m\n\u001b[0;31mSyntaxError\u001b[0m\u001b[0;31m:\u001b[0m invalid syntax\n"
     ]
    }
   ],
   "source": [
    "%%timeit\n",
    "[ ** 2 for x in range(1, 1_000_000) ** 2]"
   ]
  },
  {
   "cell_type": "code",
   "execution_count": null,
   "id": "0d099fe9",
   "metadata": {},
   "outputs": [],
   "source": [
    "jupyter notebookjupyter notebookjupyter notebook"
   ]
  }
 ],
 "metadata": {
  "kernelspec": {
   "display_name": "Python 3 (ipykernel)",
   "language": "python",
   "name": "python3"
  },
  "language_info": {
   "codemirror_mode": {
    "name": "ipython",
    "version": 3
   },
   "file_extension": ".py",
   "mimetype": "text/x-python",
   "name": "python",
   "nbconvert_exporter": "python",
   "pygments_lexer": "ipython3",
   "version": "3.9.12"
  }
 },
 "nbformat": 4,
 "nbformat_minor": 5
}
